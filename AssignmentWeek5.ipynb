{
 "metadata": {
  "name": "",
  "signature": "sha256:a5247352301bcb79d261b3bdcedbf3a4b2289bce793070b635e1f83adedacd13"
 },
 "nbformat": 3,
 "nbformat_minor": 0,
 "worksheets": [
  {
   "cells": [
    {
     "cell_type": "code",
     "collapsed": false,
     "input": [
      "filename = 'u.item'\n",
      "try:\n",
      "    filehandle = open(filename)\n",
      "except:\n",
      "    print 'File cannot be opened:', filename\n",
      "    exit\n",
      "    \n",
      "for line in filehandle:\n",
      "    line = line.rstrip()\n",
      "    if line.find('(1959)') == -1:\n",
      "        continue\n",
      "    linelist = line.split(\"|\")\n",
      "    print linelist[1]"
     ],
     "language": "python",
     "metadata": {},
     "outputs": [
      {
       "output_type": "stream",
       "stream": "stdout",
       "text": [
        "North by Northwest (1959)\n",
        "Some Like It Hot (1959)\n",
        "Ben-Hur (1959)\n",
        "Shaggy Dog, The (1959)\n",
        "World of Apu, The (Apur Sansar) (1959)\n"
       ]
      }
     ],
     "prompt_number": 36
    }
   ],
   "metadata": {}
  }
 ]
}