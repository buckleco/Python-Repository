{
 "metadata": {
  "name": "",
  "signature": "sha256:b1a68793619f1d586acf070a6aa65910c079c808013f3902117f28130f0b7f44"
 },
 "nbformat": 3,
 "nbformat_minor": 0,
 "worksheets": [
  {
   "cells": [
    {
     "cell_type": "code",
     "collapsed": false,
     "input": [
      "import urllib\n",
      "from bs4 import BeautifulSoup #import beautifulsoup\n",
      "\n",
      "url = \"http://alittlebitgreen.com/Journey.html\"\n",
      "html = urllib.urlopen(url).read()\n",
      "soup = BeautifulSoup(html)\n",
      "# Retrieve all anchor tags\n",
      "tags = soup('a')\n",
      "for tag in tags:\n",
      "    print tag.get('href', None)"
     ],
     "language": "python",
     "metadata": {},
     "outputs": [
      {
       "output_type": "stream",
       "stream": "stdout",
       "text": [
        "Diary.html\n",
        "Pictures.html\n",
        "Journey.html\n",
        "index.html\n",
        "http://www.radissonblu.com/seasidehotel-helsinki\n",
        "http://bedandbike.ru/eng_opt\n",
        "http://www.capitalhostel.com\n",
        "http://seat61.com/\n",
        "http://www.ubguest.com\n",
        "http://www.ubguest.com\n",
        "http://www.leohostel.com\n",
        "http://www.novahostel.net/travel/main-travel.htm\n",
        "http://www.hostelxian.cn/\n",
        "http://www.hostelworld.com/hosteldetails.php/Mingtown-Nanjing-Road-Youth-Hostel/Shanghai/53745?sc_sau=sfab\n",
        "http://www.gigglingtree.com\n",
        "http://www.hostelworld.com/hosteldetails.php/Bamboo-House-Hotel/Yangshuo/43240\n",
        "http://www.hostelworld.com/hosteldetails.php/Lotusland-Hostel/Nanning/30582\n",
        "http://littlehanoihostel.com/web/index.php/en/articles/introduction-107\n",
        "http://littlehanoihostel.com/web/index.php/en/articles/introduction-107\n",
        "http://www.halongglorycruise.com/\n",
        "http://www.hostelworld.com/hosteldetails.php/Tran-Ly-Hotel/Hue/22133\n",
        "http://www.hostelworld.com/hosteldetails.php/Dai-Long-Hotel/Hoi-An/20114\n",
        "http://www.hostelworld.com/hosteldetails.php/La-Suisse-Hotel/Nha-Trang/35146\n",
        "http://www.hostelworld.com/hosteldetails.php/Luan-Vu/Ho-Chi-Minh/17113\n",
        "http://www.hostelworld.com/hosteldetails.php/Velkommen-Guesthouse/Phnom-Penh/50041\n",
        "http://www.hostelworld.com/hosteldetails.php/Siem-Reap-Rooms/Siem-Reap/31747\n",
        "http://www.booking.com/hotel/kh/millennium-guesthouse.en.html\n",
        "http://www.starwoodhotels.com/lemeridien/property/overview/index.html?propertyID=1946\n",
        "http://www.phangan.info/index.cfm?action=accommodation.view&idaccommodation=279#\n",
        "http://www.kohphanganhavana.com/\n",
        "http://www.hostelworld.com/hosteldetails.php/Reggae-Mansion-Kuala-Lumpur/Kuala-Lumpur/52782\n",
        "http://www.tunjungmas.com/\n",
        "http://www.alilahotels.com/manggis\n",
        "http://www.scallywagsresort.com/\n",
        "http://www.starwoodhotels.com/luxury/property/overview/index.html?propertyID=277\n",
        "http://www.treeinlodge.com/\n",
        "http://www.naumihotel.com/\n",
        "Diary.html\n",
        "Pictures.html\n",
        "Journey.html\n",
        "index.html\n"
       ]
      }
     ],
     "prompt_number": 2
    },
    {
     "cell_type": "code",
     "collapsed": false,
     "input": [],
     "language": "python",
     "metadata": {},
     "outputs": []
    }
   ],
   "metadata": {}
  }
 ]
}