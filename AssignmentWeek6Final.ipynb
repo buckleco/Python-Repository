{
 "metadata": {
  "name": "",
  "signature": "sha256:fc2e973e40653772c7bb319a999da8ea6f3101cbab26d8ce307a47d7556c509c"
 },
 "nbformat": 3,
 "nbformat_minor": 0,
 "worksheets": [
  {
   "cells": [
    {
     "cell_type": "code",
     "collapsed": false,
     "input": [
      "import re\n",
      "fhand = open('PythonAssignmentWeek6.txt') #The text is saved in this file\n",
      "for line in fhand:\n",
      "    line = line.rstrip()\n",
      "    if re.search('^1', line) : #If the line starts with 1, then use that line\n",
      "        match = re.search('(.)(\\s)([A-Za-z\\s]*)(\\s?\\s)(.)(\\s)([A-Za-z])(\\s)([0-9])(\\s)(.)(\\s)([A-Za-z])(\\s)([0-9])(\\s)(.)(\\s)([A-Za-z])(\\s)([0-9])',line)\n",
      "        if match is None: #If the pattern doesn't match any lines then print 'No Match'\n",
      "            print 'No Match'\n",
      "        else : #Otherwise use group() to select the required pieces of text to print\n",
      "            print \"Rank: \" + match.group(1)\n",
      "            print \"Country: \" + match.group(3)\n",
      "            print \"Results: \"\n",
      "            print match.group(7) + match.group(8) + match.group(9)\n",
      "            print match.group(13) + match.group(14) + match.group(15)\n",
      "            print match.group(19) + match.group(20) + match.group(21)"
     ],
     "language": "python",
     "metadata": {},
     "outputs": [
      {
       "output_type": "stream",
       "stream": "stdout",
       "text": [
        "Rank: 1\n",
        "Country: Germany \n",
        "Results: \n",
        "W 3\n",
        "T 4\n",
        "W 2\n"
       ]
      }
     ],
     "prompt_number": 1
    },
    {
     "cell_type": "code",
     "collapsed": false,
     "input": [],
     "language": "python",
     "metadata": {},
     "outputs": []
    }
   ],
   "metadata": {}
  }
 ]
}