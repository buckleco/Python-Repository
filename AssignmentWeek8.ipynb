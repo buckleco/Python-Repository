{
 "metadata": {
  "name": "",
  "signature": "sha256:d6dc276cce73544f74ff172d054ad0ff22f704083e635aa842f1716cbe577ff7"
 },
 "nbformat": 3,
 "nbformat_minor": 0,
 "worksheets": [
  {
   "cells": [
    {
     "cell_type": "code",
     "collapsed": false,
     "input": [
      "import sqlite3\n",
      "#connect to the moviesDB.sqlite database stored in the same directory as the iPython notebook\n",
      "conn = sqlite3.connect('moviesDB.sqlite')\n",
      "cur = conn.cursor()\n",
      "\n",
      "print 'Movies & Actors: '\n",
      "cur.execute('SELECT movies.movie_title,actors.actor_name FROM actors JOIN movies ON movies.movie_id = actors.movie_id')\n",
      "#loop through each row in the result set and print it out\n",
      "for row in cur :\n",
      "    print row\n",
      "    \n",
      "conn.commit()\n",
      "cur.close()"
     ],
     "language": "python",
     "metadata": {},
     "outputs": [
      {
       "output_type": "stream",
       "stream": "stdout",
       "text": [
        "Movies & Actors: \n",
        "(u'Top Gun', u'Tom Cruise')\n",
        "(u'Top Gun', u'Kelly McGillis')\n",
        "(u'Fargo', u'Frances McDormand')\n",
        "(u'Fargo', u'William H. Macy')\n",
        "(u'Titanic', u'Leonardo DiCaprio')\n",
        "(u'Titanic', u'Kate Winslet')\n",
        "(u'Batman Begins', u'Christian Bale')\n",
        "(u'Batman Begins', u'Michael Caine')\n",
        "(u'Alien', u'Sigourney Weaver')\n",
        "(u'Alien', u'Tom Skerritt')\n"
       ]
      }
     ],
     "prompt_number": 2
    },
    {
     "cell_type": "code",
     "collapsed": false,
     "input": [],
     "language": "python",
     "metadata": {},
     "outputs": []
    }
   ],
   "metadata": {}
  }
 ]
}